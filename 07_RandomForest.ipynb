{
 "cells": [
  {
   "cell_type": "markdown",
   "id": "0336417f-46d5-458e-9824-fc0e1e749e2e",
   "metadata": {},
   "source": [
    "# Random Forest"
   ]
  },
  {
   "cell_type": "code",
   "execution_count": 2,
   "id": "edc49486-1bbc-4cfa-9374-af5c10c5e81e",
   "metadata": {},
   "outputs": [],
   "source": [
    "# Import modules\n",
    "import pandas as pd\n",
    "import numpy as np\n",
    "import matplotlib.pyplot as plt\n",
    "import sklearn\n",
    "from statistics import mean"
   ]
  },
  {
   "cell_type": "code",
   "execution_count": 3,
   "id": "027f670e-a8cd-4806-9d09-054d575a9912",
   "metadata": {},
   "outputs": [],
   "source": [
    "# Notebook specific behavior setup\n",
    "from IPython.core.interactiveshell import InteractiveShell\n",
    "InteractiveShell.ast_node_interactivity = \"all\"\n",
    "\n",
    "pd.options.display.max_rows = 10"
   ]
  },
  {
   "cell_type": "markdown",
   "id": "1603ea83-f759-46ec-b628-47506e419c1c",
   "metadata": {},
   "source": [
    "### Data Prep"
   ]
  },
  {
   "cell_type": "code",
   "execution_count": 48,
   "id": "102caaea-3aa2-4474-9b4c-474ec034c01a",
   "metadata": {},
   "outputs": [],
   "source": [
    "# Import Data into respective Dataframes\n",
    "\n",
    "df_10blue = pd.read_csv(\"00_LC 10BData.txt\", sep=\"\\t\", header=None, names=[\"HMDB ID\", \"10B-1\", \"10B-2\", \"10B-3\",\"10B-4\", \"10B-5\", \"10B-6\", \"10B-7\", \"10B-8\"] )\n",
    "\n",
    "df_10dark = pd.read_csv(\"00_LC 10DData.txt\", sep=\"\\t\", header=None, names=[\"HMDB ID\", \"10D-1\", \"10D-2\", \"10D-3\",\"10D-4\", \"10D-5\", \"10D-6\", \"10D-7\", \"10D-8\"] )\n",
    "\n",
    "df_14blue = pd.read_csv(\"00_LC 14BData.txt\", sep=\"\\t\", header=None, names=[\"HMDB ID\", \"14B-1\", \"14B-2\",\"14B-4\", \"14B-5\", \"14B-6\", \"14B-7\", \"14B-8\"] )\n",
    "\n",
    "df_14dark = pd.read_csv(\"00_LC 14DData.txt\", sep=\"\\t\", header=None, names=[\"HMDB ID\", \"14D-1\", \"14D-2\", \"14D-3\",\"14D-4\", \"14D-5\", \"14D-6\", \"14D-7\", \"14D-8\"] )"
   ]
  },
  {
   "cell_type": "code",
   "execution_count": 5,
   "id": "11ca056e-6cf5-4798-a15f-c38fd2c6d6dc",
   "metadata": {},
   "outputs": [
    {
     "name": "stdout",
     "output_type": "stream",
     "text": [
      "21\n"
     ]
    }
   ],
   "source": [
    "# This gives me the row to remove from the 14 day dataset that is not in the 10 day dataset\n",
    "for j in range(0, len(df_14blue)):\n",
    "    id_to_remove = df_14blue.iloc[:, 0][j]\n",
    "    if id_to_remove == list(set(df_14blue.iloc[:, 0]) - set(df_10blue.iloc[:, 0]))[0]:\n",
    "        print(j)"
   ]
  },
  {
   "cell_type": "code",
   "execution_count": 6,
   "id": "28ce8851-b8b1-4412-8fac-9c2e4b7cdcf1",
   "metadata": {},
   "outputs": [
    {
     "name": "stdout",
     "output_type": "stream",
     "text": [
      "168\n"
     ]
    }
   ],
   "source": [
    "# Sanity check to make sure all the IDs are the same before I go to concatenate them\n",
    "count = 0\n",
    "\n",
    "for i in range(0, len(df_10blue)):\n",
    "    for j in range(0, len(df_14blue)-1):\n",
    "        id_10 = list(df_10blue.iloc[:, 0])[i]\n",
    "        id_14 = list(df_14blue.drop(21).iloc[:, 0])[j]\n",
    "        if id_10 == id_14:\n",
    "            count = count + 1\n",
    "\n",
    "print(count)"
   ]
  },
  {
   "cell_type": "code",
   "execution_count": 7,
   "id": "938e17c5-b722-46cc-ba97-eb289eea5dfe",
   "metadata": {
    "tags": []
   },
   "outputs": [
    {
     "data": {
      "text/html": [
       "<div>\n",
       "<style scoped>\n",
       "    .dataframe tbody tr th:only-of-type {\n",
       "        vertical-align: middle;\n",
       "    }\n",
       "\n",
       "    .dataframe tbody tr th {\n",
       "        vertical-align: top;\n",
       "    }\n",
       "\n",
       "    .dataframe thead th {\n",
       "        text-align: right;\n",
       "    }\n",
       "</style>\n",
       "<table border=\"1\" class=\"dataframe\">\n",
       "  <thead>\n",
       "    <tr style=\"text-align: right;\">\n",
       "      <th></th>\n",
       "      <th>0</th>\n",
       "      <th>1</th>\n",
       "      <th>2</th>\n",
       "      <th>3</th>\n",
       "      <th>4</th>\n",
       "      <th>5</th>\n",
       "      <th>6</th>\n",
       "      <th>7</th>\n",
       "      <th>8</th>\n",
       "      <th>9</th>\n",
       "      <th>...</th>\n",
       "      <th>159</th>\n",
       "      <th>160</th>\n",
       "      <th>161</th>\n",
       "      <th>162</th>\n",
       "      <th>163</th>\n",
       "      <th>164</th>\n",
       "      <th>165</th>\n",
       "      <th>166</th>\n",
       "      <th>167</th>\n",
       "      <th>outcome</th>\n",
       "    </tr>\n",
       "  </thead>\n",
       "  <tbody>\n",
       "    <tr>\n",
       "      <th>10B-1</th>\n",
       "      <td>0.000000</td>\n",
       "      <td>0.000000</td>\n",
       "      <td>0.384315</td>\n",
       "      <td>0.000000</td>\n",
       "      <td>0.000000</td>\n",
       "      <td>0.159936</td>\n",
       "      <td>0.511681</td>\n",
       "      <td>0.161517</td>\n",
       "      <td>0.035253</td>\n",
       "      <td>0.560481</td>\n",
       "      <td>...</td>\n",
       "      <td>0.809183</td>\n",
       "      <td>0.881396</td>\n",
       "      <td>0.722952</td>\n",
       "      <td>0.258091</td>\n",
       "      <td>0.412735</td>\n",
       "      <td>0.594684</td>\n",
       "      <td>0.600782</td>\n",
       "      <td>0.000000</td>\n",
       "      <td>0.086492</td>\n",
       "      <td>1</td>\n",
       "    </tr>\n",
       "    <tr>\n",
       "      <th>10B-2</th>\n",
       "      <td>0.430329</td>\n",
       "      <td>0.686895</td>\n",
       "      <td>0.372931</td>\n",
       "      <td>0.190300</td>\n",
       "      <td>0.143212</td>\n",
       "      <td>0.879920</td>\n",
       "      <td>0.863424</td>\n",
       "      <td>0.661988</td>\n",
       "      <td>1.000000</td>\n",
       "      <td>0.705069</td>\n",
       "      <td>...</td>\n",
       "      <td>0.511166</td>\n",
       "      <td>0.491750</td>\n",
       "      <td>0.002381</td>\n",
       "      <td>0.894668</td>\n",
       "      <td>0.705707</td>\n",
       "      <td>0.000000</td>\n",
       "      <td>0.411016</td>\n",
       "      <td>0.652958</td>\n",
       "      <td>0.004168</td>\n",
       "      <td>1</td>\n",
       "    </tr>\n",
       "    <tr>\n",
       "      <th>10B-3</th>\n",
       "      <td>0.121270</td>\n",
       "      <td>0.347728</td>\n",
       "      <td>0.294990</td>\n",
       "      <td>0.518018</td>\n",
       "      <td>0.527009</td>\n",
       "      <td>0.457690</td>\n",
       "      <td>0.861510</td>\n",
       "      <td>0.272015</td>\n",
       "      <td>0.427870</td>\n",
       "      <td>0.609246</td>\n",
       "      <td>...</td>\n",
       "      <td>0.840555</td>\n",
       "      <td>0.911721</td>\n",
       "      <td>0.954506</td>\n",
       "      <td>0.616609</td>\n",
       "      <td>0.424122</td>\n",
       "      <td>0.433745</td>\n",
       "      <td>0.820207</td>\n",
       "      <td>0.724513</td>\n",
       "      <td>0.674379</td>\n",
       "      <td>1</td>\n",
       "    </tr>\n",
       "    <tr>\n",
       "      <th>10B-4</th>\n",
       "      <td>0.103490</td>\n",
       "      <td>0.515623</td>\n",
       "      <td>0.550316</td>\n",
       "      <td>0.753798</td>\n",
       "      <td>0.768036</td>\n",
       "      <td>1.000000</td>\n",
       "      <td>1.000000</td>\n",
       "      <td>0.462039</td>\n",
       "      <td>0.610348</td>\n",
       "      <td>0.887498</td>\n",
       "      <td>...</td>\n",
       "      <td>0.784911</td>\n",
       "      <td>0.888851</td>\n",
       "      <td>0.829004</td>\n",
       "      <td>0.018523</td>\n",
       "      <td>0.092164</td>\n",
       "      <td>0.149152</td>\n",
       "      <td>0.778144</td>\n",
       "      <td>0.542424</td>\n",
       "      <td>0.532883</td>\n",
       "      <td>1</td>\n",
       "    </tr>\n",
       "    <tr>\n",
       "      <th>10B-5</th>\n",
       "      <td>0.937429</td>\n",
       "      <td>0.584672</td>\n",
       "      <td>0.000000</td>\n",
       "      <td>0.255128</td>\n",
       "      <td>0.219775</td>\n",
       "      <td>0.547050</td>\n",
       "      <td>0.796359</td>\n",
       "      <td>1.000000</td>\n",
       "      <td>0.304773</td>\n",
       "      <td>0.000000</td>\n",
       "      <td>...</td>\n",
       "      <td>0.000000</td>\n",
       "      <td>0.050977</td>\n",
       "      <td>0.133966</td>\n",
       "      <td>1.000000</td>\n",
       "      <td>0.796571</td>\n",
       "      <td>0.314951</td>\n",
       "      <td>0.000000</td>\n",
       "      <td>0.683375</td>\n",
       "      <td>0.115301</td>\n",
       "      <td>1</td>\n",
       "    </tr>\n",
       "    <tr>\n",
       "      <th>...</th>\n",
       "      <td>...</td>\n",
       "      <td>...</td>\n",
       "      <td>...</td>\n",
       "      <td>...</td>\n",
       "      <td>...</td>\n",
       "      <td>...</td>\n",
       "      <td>...</td>\n",
       "      <td>...</td>\n",
       "      <td>...</td>\n",
       "      <td>...</td>\n",
       "      <td>...</td>\n",
       "      <td>...</td>\n",
       "      <td>...</td>\n",
       "      <td>...</td>\n",
       "      <td>...</td>\n",
       "      <td>...</td>\n",
       "      <td>...</td>\n",
       "      <td>...</td>\n",
       "      <td>...</td>\n",
       "      <td>...</td>\n",
       "      <td>...</td>\n",
       "    </tr>\n",
       "    <tr>\n",
       "      <th>14D-4</th>\n",
       "      <td>0.110222</td>\n",
       "      <td>0.000000</td>\n",
       "      <td>0.653781</td>\n",
       "      <td>0.579668</td>\n",
       "      <td>0.556469</td>\n",
       "      <td>0.586115</td>\n",
       "      <td>0.433784</td>\n",
       "      <td>0.180329</td>\n",
       "      <td>0.137309</td>\n",
       "      <td>0.889725</td>\n",
       "      <td>...</td>\n",
       "      <td>0.905087</td>\n",
       "      <td>0.949243</td>\n",
       "      <td>0.711157</td>\n",
       "      <td>0.642203</td>\n",
       "      <td>0.472768</td>\n",
       "      <td>0.792126</td>\n",
       "      <td>0.913005</td>\n",
       "      <td>0.449426</td>\n",
       "      <td>0.824898</td>\n",
       "      <td>0</td>\n",
       "    </tr>\n",
       "    <tr>\n",
       "      <th>14D-5</th>\n",
       "      <td>1.000000</td>\n",
       "      <td>1.000000</td>\n",
       "      <td>0.262839</td>\n",
       "      <td>0.720852</td>\n",
       "      <td>0.744341</td>\n",
       "      <td>0.824881</td>\n",
       "      <td>0.386867</td>\n",
       "      <td>0.934401</td>\n",
       "      <td>0.426491</td>\n",
       "      <td>0.721568</td>\n",
       "      <td>...</td>\n",
       "      <td>0.000000</td>\n",
       "      <td>0.000000</td>\n",
       "      <td>0.411128</td>\n",
       "      <td>0.432170</td>\n",
       "      <td>1.000000</td>\n",
       "      <td>0.167980</td>\n",
       "      <td>0.610681</td>\n",
       "      <td>0.338205</td>\n",
       "      <td>0.458654</td>\n",
       "      <td>0</td>\n",
       "    </tr>\n",
       "    <tr>\n",
       "      <th>14D-6</th>\n",
       "      <td>0.920281</td>\n",
       "      <td>0.866176</td>\n",
       "      <td>0.313162</td>\n",
       "      <td>0.723344</td>\n",
       "      <td>0.740633</td>\n",
       "      <td>1.000000</td>\n",
       "      <td>0.795130</td>\n",
       "      <td>1.000000</td>\n",
       "      <td>0.481774</td>\n",
       "      <td>0.709919</td>\n",
       "      <td>...</td>\n",
       "      <td>0.283617</td>\n",
       "      <td>0.390919</td>\n",
       "      <td>0.407805</td>\n",
       "      <td>0.694902</td>\n",
       "      <td>0.369452</td>\n",
       "      <td>0.232434</td>\n",
       "      <td>0.505342</td>\n",
       "      <td>0.551315</td>\n",
       "      <td>0.300990</td>\n",
       "      <td>0</td>\n",
       "    </tr>\n",
       "    <tr>\n",
       "      <th>14D-7</th>\n",
       "      <td>0.812346</td>\n",
       "      <td>0.722678</td>\n",
       "      <td>0.824207</td>\n",
       "      <td>0.241063</td>\n",
       "      <td>0.186010</td>\n",
       "      <td>0.278360</td>\n",
       "      <td>0.550948</td>\n",
       "      <td>0.334093</td>\n",
       "      <td>0.060801</td>\n",
       "      <td>0.000000</td>\n",
       "      <td>...</td>\n",
       "      <td>0.553753</td>\n",
       "      <td>0.547168</td>\n",
       "      <td>0.000000</td>\n",
       "      <td>0.307614</td>\n",
       "      <td>0.430278</td>\n",
       "      <td>0.638673</td>\n",
       "      <td>0.432755</td>\n",
       "      <td>0.000000</td>\n",
       "      <td>0.157866</td>\n",
       "      <td>0</td>\n",
       "    </tr>\n",
       "    <tr>\n",
       "      <th>14D-8</th>\n",
       "      <td>0.841705</td>\n",
       "      <td>0.775681</td>\n",
       "      <td>1.000000</td>\n",
       "      <td>0.710457</td>\n",
       "      <td>0.653673</td>\n",
       "      <td>0.401264</td>\n",
       "      <td>0.766024</td>\n",
       "      <td>0.474227</td>\n",
       "      <td>0.154211</td>\n",
       "      <td>0.479154</td>\n",
       "      <td>...</td>\n",
       "      <td>0.681287</td>\n",
       "      <td>0.769020</td>\n",
       "      <td>0.370454</td>\n",
       "      <td>0.000000</td>\n",
       "      <td>0.213710</td>\n",
       "      <td>0.593786</td>\n",
       "      <td>0.533216</td>\n",
       "      <td>0.591262</td>\n",
       "      <td>0.511648</td>\n",
       "      <td>0</td>\n",
       "    </tr>\n",
       "  </tbody>\n",
       "</table>\n",
       "<p>31 rows × 169 columns</p>\n",
       "</div>"
      ],
      "text/plain": [
       "              0         1         2         3         4         5         6  \\\n",
       "10B-1  0.000000  0.000000  0.384315  0.000000  0.000000  0.159936  0.511681   \n",
       "10B-2  0.430329  0.686895  0.372931  0.190300  0.143212  0.879920  0.863424   \n",
       "10B-3  0.121270  0.347728  0.294990  0.518018  0.527009  0.457690  0.861510   \n",
       "10B-4  0.103490  0.515623  0.550316  0.753798  0.768036  1.000000  1.000000   \n",
       "10B-5  0.937429  0.584672  0.000000  0.255128  0.219775  0.547050  0.796359   \n",
       "...         ...       ...       ...       ...       ...       ...       ...   \n",
       "14D-4  0.110222  0.000000  0.653781  0.579668  0.556469  0.586115  0.433784   \n",
       "14D-5  1.000000  1.000000  0.262839  0.720852  0.744341  0.824881  0.386867   \n",
       "14D-6  0.920281  0.866176  0.313162  0.723344  0.740633  1.000000  0.795130   \n",
       "14D-7  0.812346  0.722678  0.824207  0.241063  0.186010  0.278360  0.550948   \n",
       "14D-8  0.841705  0.775681  1.000000  0.710457  0.653673  0.401264  0.766024   \n",
       "\n",
       "              7         8         9  ...       159       160       161  \\\n",
       "10B-1  0.161517  0.035253  0.560481  ...  0.809183  0.881396  0.722952   \n",
       "10B-2  0.661988  1.000000  0.705069  ...  0.511166  0.491750  0.002381   \n",
       "10B-3  0.272015  0.427870  0.609246  ...  0.840555  0.911721  0.954506   \n",
       "10B-4  0.462039  0.610348  0.887498  ...  0.784911  0.888851  0.829004   \n",
       "10B-5  1.000000  0.304773  0.000000  ...  0.000000  0.050977  0.133966   \n",
       "...         ...       ...       ...  ...       ...       ...       ...   \n",
       "14D-4  0.180329  0.137309  0.889725  ...  0.905087  0.949243  0.711157   \n",
       "14D-5  0.934401  0.426491  0.721568  ...  0.000000  0.000000  0.411128   \n",
       "14D-6  1.000000  0.481774  0.709919  ...  0.283617  0.390919  0.407805   \n",
       "14D-7  0.334093  0.060801  0.000000  ...  0.553753  0.547168  0.000000   \n",
       "14D-8  0.474227  0.154211  0.479154  ...  0.681287  0.769020  0.370454   \n",
       "\n",
       "            162       163       164       165       166       167  outcome  \n",
       "10B-1  0.258091  0.412735  0.594684  0.600782  0.000000  0.086492        1  \n",
       "10B-2  0.894668  0.705707  0.000000  0.411016  0.652958  0.004168        1  \n",
       "10B-3  0.616609  0.424122  0.433745  0.820207  0.724513  0.674379        1  \n",
       "10B-4  0.018523  0.092164  0.149152  0.778144  0.542424  0.532883        1  \n",
       "10B-5  1.000000  0.796571  0.314951  0.000000  0.683375  0.115301        1  \n",
       "...         ...       ...       ...       ...       ...       ...      ...  \n",
       "14D-4  0.642203  0.472768  0.792126  0.913005  0.449426  0.824898        0  \n",
       "14D-5  0.432170  1.000000  0.167980  0.610681  0.338205  0.458654        0  \n",
       "14D-6  0.694902  0.369452  0.232434  0.505342  0.551315  0.300990        0  \n",
       "14D-7  0.307614  0.430278  0.638673  0.432755  0.000000  0.157866        0  \n",
       "14D-8  0.000000  0.213710  0.593786  0.533216  0.591262  0.511648        0  \n",
       "\n",
       "[31 rows x 169 columns]"
      ]
     },
     "execution_count": 7,
     "metadata": {},
     "output_type": "execute_result"
    }
   ],
   "source": [
    "# This step is to pull out just the columns with values we want to analyze (aka it \"removes\" the ID which we will add back at the end)\n",
    "# and it concatenates the dataframes\n",
    "ten_blue = df_10blue.iloc[:, 1:9]\n",
    "ten_dark = df_10dark.iloc[:, 1:9]\n",
    "\n",
    "fourteen_blue = df_14blue.drop(21).reset_index(drop=True).iloc[:, 1:9]\n",
    "fourteen_dark = df_14dark.drop(21).reset_index(drop=True).iloc[:, 1:9]\n",
    "\n",
    "# B=1 D=0\n",
    "outcome_data = [1, 1, 1, 1, 1, 1, 1, 1, 0, 0, 0, 0, 0, 0, 0, 0, 1, 1, 1, 1, 1, 1, 1, 0, 0, 0, 0, 0, 0, 0, 0]\n",
    "outcome = pd.Series(data=outcome_data)\n",
    "\n",
    "data_missing_outcome = pd.concat([ten_blue, ten_dark, fourteen_blue, fourteen_dark], axis=1).T\n",
    "\n",
    "data = data_missing_outcome.assign(outcome=outcome.values)\n",
    "data"
   ]
  },
  {
   "cell_type": "code",
   "execution_count": 8,
   "id": "496be798-ff0b-4cb8-895f-9d55f0e19048",
   "metadata": {
    "tags": []
   },
   "outputs": [
    {
     "data": {
      "text/html": [
       "<div>\n",
       "<style scoped>\n",
       "    .dataframe tbody tr th:only-of-type {\n",
       "        vertical-align: middle;\n",
       "    }\n",
       "\n",
       "    .dataframe tbody tr th {\n",
       "        vertical-align: top;\n",
       "    }\n",
       "\n",
       "    .dataframe thead th {\n",
       "        text-align: right;\n",
       "    }\n",
       "</style>\n",
       "<table border=\"1\" class=\"dataframe\">\n",
       "  <thead>\n",
       "    <tr style=\"text-align: right;\">\n",
       "      <th></th>\n",
       "      <th>10B-1</th>\n",
       "      <th>10B-2</th>\n",
       "      <th>10B-3</th>\n",
       "      <th>10B-4</th>\n",
       "      <th>10B-5</th>\n",
       "      <th>10B-6</th>\n",
       "      <th>10B-7</th>\n",
       "      <th>10B-8</th>\n",
       "    </tr>\n",
       "  </thead>\n",
       "  <tbody>\n",
       "    <tr>\n",
       "      <th>count</th>\n",
       "      <td>168.000000</td>\n",
       "      <td>168.000000</td>\n",
       "      <td>168.000000</td>\n",
       "      <td>168.000000</td>\n",
       "      <td>168.000000</td>\n",
       "      <td>168.000000</td>\n",
       "      <td>168.000000</td>\n",
       "      <td>168.000000</td>\n",
       "    </tr>\n",
       "    <tr>\n",
       "      <th>mean</th>\n",
       "      <td>0.348437</td>\n",
       "      <td>0.555544</td>\n",
       "      <td>0.445256</td>\n",
       "      <td>0.454238</td>\n",
       "      <td>0.573815</td>\n",
       "      <td>0.427428</td>\n",
       "      <td>0.544693</td>\n",
       "      <td>0.587697</td>\n",
       "    </tr>\n",
       "    <tr>\n",
       "      <th>std</th>\n",
       "      <td>0.314482</td>\n",
       "      <td>0.320241</td>\n",
       "      <td>0.289331</td>\n",
       "      <td>0.303305</td>\n",
       "      <td>0.379204</td>\n",
       "      <td>0.318355</td>\n",
       "      <td>0.238380</td>\n",
       "      <td>0.242529</td>\n",
       "    </tr>\n",
       "    <tr>\n",
       "      <th>min</th>\n",
       "      <td>0.000000</td>\n",
       "      <td>0.000000</td>\n",
       "      <td>0.000000</td>\n",
       "      <td>0.000000</td>\n",
       "      <td>0.000000</td>\n",
       "      <td>0.000000</td>\n",
       "      <td>0.000000</td>\n",
       "      <td>0.000000</td>\n",
       "    </tr>\n",
       "    <tr>\n",
       "      <th>25%</th>\n",
       "      <td>0.073453</td>\n",
       "      <td>0.338028</td>\n",
       "      <td>0.192247</td>\n",
       "      <td>0.180197</td>\n",
       "      <td>0.216381</td>\n",
       "      <td>0.163579</td>\n",
       "      <td>0.380458</td>\n",
       "      <td>0.386346</td>\n",
       "    </tr>\n",
       "    <tr>\n",
       "      <th>50%</th>\n",
       "      <td>0.256740</td>\n",
       "      <td>0.517391</td>\n",
       "      <td>0.428455</td>\n",
       "      <td>0.438712</td>\n",
       "      <td>0.679903</td>\n",
       "      <td>0.310110</td>\n",
       "      <td>0.572581</td>\n",
       "      <td>0.585820</td>\n",
       "    </tr>\n",
       "    <tr>\n",
       "      <th>75%</th>\n",
       "      <td>0.602842</td>\n",
       "      <td>0.857127</td>\n",
       "      <td>0.678133</td>\n",
       "      <td>0.709846</td>\n",
       "      <td>0.971984</td>\n",
       "      <td>0.702863</td>\n",
       "      <td>0.736184</td>\n",
       "      <td>0.806615</td>\n",
       "    </tr>\n",
       "    <tr>\n",
       "      <th>max</th>\n",
       "      <td>1.000000</td>\n",
       "      <td>1.000000</td>\n",
       "      <td>1.000000</td>\n",
       "      <td>1.000000</td>\n",
       "      <td>1.000000</td>\n",
       "      <td>1.000000</td>\n",
       "      <td>1.000000</td>\n",
       "      <td>1.000000</td>\n",
       "    </tr>\n",
       "  </tbody>\n",
       "</table>\n",
       "</div>"
      ],
      "text/plain": [
       "            10B-1       10B-2       10B-3       10B-4       10B-5       10B-6  \\\n",
       "count  168.000000  168.000000  168.000000  168.000000  168.000000  168.000000   \n",
       "mean     0.348437    0.555544    0.445256    0.454238    0.573815    0.427428   \n",
       "std      0.314482    0.320241    0.289331    0.303305    0.379204    0.318355   \n",
       "min      0.000000    0.000000    0.000000    0.000000    0.000000    0.000000   \n",
       "25%      0.073453    0.338028    0.192247    0.180197    0.216381    0.163579   \n",
       "50%      0.256740    0.517391    0.428455    0.438712    0.679903    0.310110   \n",
       "75%      0.602842    0.857127    0.678133    0.709846    0.971984    0.702863   \n",
       "max      1.000000    1.000000    1.000000    1.000000    1.000000    1.000000   \n",
       "\n",
       "            10B-7       10B-8  \n",
       "count  168.000000  168.000000  \n",
       "mean     0.544693    0.587697  \n",
       "std      0.238380    0.242529  \n",
       "min      0.000000    0.000000  \n",
       "25%      0.380458    0.386346  \n",
       "50%      0.572581    0.585820  \n",
       "75%      0.736184    0.806615  \n",
       "max      1.000000    1.000000  "
      ]
     },
     "execution_count": 8,
     "metadata": {},
     "output_type": "execute_result"
    },
    {
     "data": {
      "text/html": [
       "<div>\n",
       "<style scoped>\n",
       "    .dataframe tbody tr th:only-of-type {\n",
       "        vertical-align: middle;\n",
       "    }\n",
       "\n",
       "    .dataframe tbody tr th {\n",
       "        vertical-align: top;\n",
       "    }\n",
       "\n",
       "    .dataframe thead th {\n",
       "        text-align: right;\n",
       "    }\n",
       "</style>\n",
       "<table border=\"1\" class=\"dataframe\">\n",
       "  <thead>\n",
       "    <tr style=\"text-align: right;\">\n",
       "      <th></th>\n",
       "      <th>10D-1</th>\n",
       "      <th>10D-2</th>\n",
       "      <th>10D-3</th>\n",
       "      <th>10D-4</th>\n",
       "      <th>10D-5</th>\n",
       "      <th>10D-6</th>\n",
       "      <th>10D-7</th>\n",
       "      <th>10D-8</th>\n",
       "    </tr>\n",
       "  </thead>\n",
       "  <tbody>\n",
       "    <tr>\n",
       "      <th>count</th>\n",
       "      <td>168.000000</td>\n",
       "      <td>168.000000</td>\n",
       "      <td>168.000000</td>\n",
       "      <td>168.000000</td>\n",
       "      <td>168.000000</td>\n",
       "      <td>168.000000</td>\n",
       "      <td>168.000000</td>\n",
       "      <td>168.000000</td>\n",
       "    </tr>\n",
       "    <tr>\n",
       "      <th>mean</th>\n",
       "      <td>0.542193</td>\n",
       "      <td>0.393911</td>\n",
       "      <td>0.493345</td>\n",
       "      <td>0.605988</td>\n",
       "      <td>0.555452</td>\n",
       "      <td>0.587774</td>\n",
       "      <td>0.491405</td>\n",
       "      <td>0.422359</td>\n",
       "    </tr>\n",
       "    <tr>\n",
       "      <th>std</th>\n",
       "      <td>0.347367</td>\n",
       "      <td>0.331705</td>\n",
       "      <td>0.286248</td>\n",
       "      <td>0.231909</td>\n",
       "      <td>0.291745</td>\n",
       "      <td>0.235790</td>\n",
       "      <td>0.301119</td>\n",
       "      <td>0.352790</td>\n",
       "    </tr>\n",
       "    <tr>\n",
       "      <th>min</th>\n",
       "      <td>0.000000</td>\n",
       "      <td>0.000000</td>\n",
       "      <td>0.000000</td>\n",
       "      <td>0.016974</td>\n",
       "      <td>0.000000</td>\n",
       "      <td>0.000000</td>\n",
       "      <td>0.000000</td>\n",
       "      <td>0.000000</td>\n",
       "    </tr>\n",
       "    <tr>\n",
       "      <th>25%</th>\n",
       "      <td>0.233521</td>\n",
       "      <td>0.119390</td>\n",
       "      <td>0.230010</td>\n",
       "      <td>0.454728</td>\n",
       "      <td>0.297752</td>\n",
       "      <td>0.416837</td>\n",
       "      <td>0.229061</td>\n",
       "      <td>0.110310</td>\n",
       "    </tr>\n",
       "    <tr>\n",
       "      <th>50%</th>\n",
       "      <td>0.577360</td>\n",
       "      <td>0.290048</td>\n",
       "      <td>0.479623</td>\n",
       "      <td>0.634810</td>\n",
       "      <td>0.540149</td>\n",
       "      <td>0.587861</td>\n",
       "      <td>0.462442</td>\n",
       "      <td>0.344380</td>\n",
       "    </tr>\n",
       "    <tr>\n",
       "      <th>75%</th>\n",
       "      <td>0.855099</td>\n",
       "      <td>0.657522</td>\n",
       "      <td>0.715281</td>\n",
       "      <td>0.779586</td>\n",
       "      <td>0.812446</td>\n",
       "      <td>0.810393</td>\n",
       "      <td>0.754891</td>\n",
       "      <td>0.735486</td>\n",
       "    </tr>\n",
       "    <tr>\n",
       "      <th>max</th>\n",
       "      <td>1.000000</td>\n",
       "      <td>1.000000</td>\n",
       "      <td>1.000000</td>\n",
       "      <td>1.000000</td>\n",
       "      <td>1.000000</td>\n",
       "      <td>1.000000</td>\n",
       "      <td>1.000000</td>\n",
       "      <td>1.000000</td>\n",
       "    </tr>\n",
       "  </tbody>\n",
       "</table>\n",
       "</div>"
      ],
      "text/plain": [
       "            10D-1       10D-2       10D-3       10D-4       10D-5       10D-6  \\\n",
       "count  168.000000  168.000000  168.000000  168.000000  168.000000  168.000000   \n",
       "mean     0.542193    0.393911    0.493345    0.605988    0.555452    0.587774   \n",
       "std      0.347367    0.331705    0.286248    0.231909    0.291745    0.235790   \n",
       "min      0.000000    0.000000    0.000000    0.016974    0.000000    0.000000   \n",
       "25%      0.233521    0.119390    0.230010    0.454728    0.297752    0.416837   \n",
       "50%      0.577360    0.290048    0.479623    0.634810    0.540149    0.587861   \n",
       "75%      0.855099    0.657522    0.715281    0.779586    0.812446    0.810393   \n",
       "max      1.000000    1.000000    1.000000    1.000000    1.000000    1.000000   \n",
       "\n",
       "            10D-7       10D-8  \n",
       "count  168.000000  168.000000  \n",
       "mean     0.491405    0.422359  \n",
       "std      0.301119    0.352790  \n",
       "min      0.000000    0.000000  \n",
       "25%      0.229061    0.110310  \n",
       "50%      0.462442    0.344380  \n",
       "75%      0.754891    0.735486  \n",
       "max      1.000000    1.000000  "
      ]
     },
     "execution_count": 8,
     "metadata": {},
     "output_type": "execute_result"
    }
   ],
   "source": [
    "#Descriptive Statistics (10 Day)\n",
    "\n",
    "ten_blue.describe()\n",
    "ten_dark.describe()"
   ]
  },
  {
   "cell_type": "code",
   "execution_count": 9,
   "id": "00b756e0-d639-419e-8955-1a5355c8d9d6",
   "metadata": {
    "tags": []
   },
   "outputs": [
    {
     "data": {
      "text/html": [
       "<div>\n",
       "<style scoped>\n",
       "    .dataframe tbody tr th:only-of-type {\n",
       "        vertical-align: middle;\n",
       "    }\n",
       "\n",
       "    .dataframe tbody tr th {\n",
       "        vertical-align: top;\n",
       "    }\n",
       "\n",
       "    .dataframe thead th {\n",
       "        text-align: right;\n",
       "    }\n",
       "</style>\n",
       "<table border=\"1\" class=\"dataframe\">\n",
       "  <thead>\n",
       "    <tr style=\"text-align: right;\">\n",
       "      <th></th>\n",
       "      <th>14B-1</th>\n",
       "      <th>14B-2</th>\n",
       "      <th>14B-4</th>\n",
       "      <th>14B-5</th>\n",
       "      <th>14B-6</th>\n",
       "      <th>14B-7</th>\n",
       "      <th>14B-8</th>\n",
       "    </tr>\n",
       "  </thead>\n",
       "  <tbody>\n",
       "    <tr>\n",
       "      <th>count</th>\n",
       "      <td>168.000000</td>\n",
       "      <td>168.000000</td>\n",
       "      <td>168.000000</td>\n",
       "      <td>168.000000</td>\n",
       "      <td>168.000000</td>\n",
       "      <td>168.000000</td>\n",
       "      <td>168.000000</td>\n",
       "    </tr>\n",
       "    <tr>\n",
       "      <th>mean</th>\n",
       "      <td>0.350102</td>\n",
       "      <td>0.411212</td>\n",
       "      <td>0.544603</td>\n",
       "      <td>0.602896</td>\n",
       "      <td>0.477214</td>\n",
       "      <td>0.520277</td>\n",
       "      <td>0.396225</td>\n",
       "    </tr>\n",
       "    <tr>\n",
       "      <th>std</th>\n",
       "      <td>0.332013</td>\n",
       "      <td>0.289422</td>\n",
       "      <td>0.267565</td>\n",
       "      <td>0.305691</td>\n",
       "      <td>0.303634</td>\n",
       "      <td>0.273848</td>\n",
       "      <td>0.317525</td>\n",
       "    </tr>\n",
       "    <tr>\n",
       "      <th>min</th>\n",
       "      <td>0.000000</td>\n",
       "      <td>0.000000</td>\n",
       "      <td>0.000000</td>\n",
       "      <td>0.000000</td>\n",
       "      <td>0.000000</td>\n",
       "      <td>0.000000</td>\n",
       "      <td>0.000000</td>\n",
       "    </tr>\n",
       "    <tr>\n",
       "      <th>25%</th>\n",
       "      <td>0.068750</td>\n",
       "      <td>0.180908</td>\n",
       "      <td>0.354712</td>\n",
       "      <td>0.331613</td>\n",
       "      <td>0.234331</td>\n",
       "      <td>0.307590</td>\n",
       "      <td>0.142915</td>\n",
       "    </tr>\n",
       "    <tr>\n",
       "      <th>50%</th>\n",
       "      <td>0.223038</td>\n",
       "      <td>0.371333</td>\n",
       "      <td>0.528811</td>\n",
       "      <td>0.682372</td>\n",
       "      <td>0.412542</td>\n",
       "      <td>0.550374</td>\n",
       "      <td>0.300786</td>\n",
       "    </tr>\n",
       "    <tr>\n",
       "      <th>75%</th>\n",
       "      <td>0.620447</td>\n",
       "      <td>0.597647</td>\n",
       "      <td>0.772760</td>\n",
       "      <td>0.875339</td>\n",
       "      <td>0.739136</td>\n",
       "      <td>0.733592</td>\n",
       "      <td>0.676505</td>\n",
       "    </tr>\n",
       "    <tr>\n",
       "      <th>max</th>\n",
       "      <td>1.000000</td>\n",
       "      <td>1.000000</td>\n",
       "      <td>0.963800</td>\n",
       "      <td>1.000000</td>\n",
       "      <td>1.000000</td>\n",
       "      <td>1.000000</td>\n",
       "      <td>1.000000</td>\n",
       "    </tr>\n",
       "  </tbody>\n",
       "</table>\n",
       "</div>"
      ],
      "text/plain": [
       "            14B-1       14B-2       14B-4       14B-5       14B-6       14B-7  \\\n",
       "count  168.000000  168.000000  168.000000  168.000000  168.000000  168.000000   \n",
       "mean     0.350102    0.411212    0.544603    0.602896    0.477214    0.520277   \n",
       "std      0.332013    0.289422    0.267565    0.305691    0.303634    0.273848   \n",
       "min      0.000000    0.000000    0.000000    0.000000    0.000000    0.000000   \n",
       "25%      0.068750    0.180908    0.354712    0.331613    0.234331    0.307590   \n",
       "50%      0.223038    0.371333    0.528811    0.682372    0.412542    0.550374   \n",
       "75%      0.620447    0.597647    0.772760    0.875339    0.739136    0.733592   \n",
       "max      1.000000    1.000000    0.963800    1.000000    1.000000    1.000000   \n",
       "\n",
       "            14B-8  \n",
       "count  168.000000  \n",
       "mean     0.396225  \n",
       "std      0.317525  \n",
       "min      0.000000  \n",
       "25%      0.142915  \n",
       "50%      0.300786  \n",
       "75%      0.676505  \n",
       "max      1.000000  "
      ]
     },
     "execution_count": 9,
     "metadata": {},
     "output_type": "execute_result"
    },
    {
     "data": {
      "text/html": [
       "<div>\n",
       "<style scoped>\n",
       "    .dataframe tbody tr th:only-of-type {\n",
       "        vertical-align: middle;\n",
       "    }\n",
       "\n",
       "    .dataframe tbody tr th {\n",
       "        vertical-align: top;\n",
       "    }\n",
       "\n",
       "    .dataframe thead th {\n",
       "        text-align: right;\n",
       "    }\n",
       "</style>\n",
       "<table border=\"1\" class=\"dataframe\">\n",
       "  <thead>\n",
       "    <tr style=\"text-align: right;\">\n",
       "      <th></th>\n",
       "      <th>14D-1</th>\n",
       "      <th>14D-2</th>\n",
       "      <th>14D-3</th>\n",
       "      <th>14D-4</th>\n",
       "      <th>14D-5</th>\n",
       "      <th>14D-6</th>\n",
       "      <th>14D-7</th>\n",
       "      <th>14D-8</th>\n",
       "    </tr>\n",
       "  </thead>\n",
       "  <tbody>\n",
       "    <tr>\n",
       "      <th>count</th>\n",
       "      <td>168.000000</td>\n",
       "      <td>168.000000</td>\n",
       "      <td>168.000000</td>\n",
       "      <td>168.000000</td>\n",
       "      <td>168.000000</td>\n",
       "      <td>168.000000</td>\n",
       "      <td>168.000000</td>\n",
       "      <td>168.000000</td>\n",
       "    </tr>\n",
       "    <tr>\n",
       "      <th>mean</th>\n",
       "      <td>0.597595</td>\n",
       "      <td>0.697498</td>\n",
       "      <td>0.386766</td>\n",
       "      <td>0.431689</td>\n",
       "      <td>0.607030</td>\n",
       "      <td>0.610528</td>\n",
       "      <td>0.528185</td>\n",
       "      <td>0.524593</td>\n",
       "    </tr>\n",
       "    <tr>\n",
       "      <th>std</th>\n",
       "      <td>0.314721</td>\n",
       "      <td>0.301234</td>\n",
       "      <td>0.356731</td>\n",
       "      <td>0.310718</td>\n",
       "      <td>0.349599</td>\n",
       "      <td>0.283278</td>\n",
       "      <td>0.322234</td>\n",
       "      <td>0.283541</td>\n",
       "    </tr>\n",
       "    <tr>\n",
       "      <th>min</th>\n",
       "      <td>0.000000</td>\n",
       "      <td>0.000000</td>\n",
       "      <td>0.000000</td>\n",
       "      <td>0.000000</td>\n",
       "      <td>0.000000</td>\n",
       "      <td>0.000000</td>\n",
       "      <td>0.000000</td>\n",
       "      <td>0.000000</td>\n",
       "    </tr>\n",
       "    <tr>\n",
       "      <th>25%</th>\n",
       "      <td>0.329701</td>\n",
       "      <td>0.486892</td>\n",
       "      <td>0.041264</td>\n",
       "      <td>0.162237</td>\n",
       "      <td>0.314685</td>\n",
       "      <td>0.370957</td>\n",
       "      <td>0.259930</td>\n",
       "      <td>0.346622</td>\n",
       "    </tr>\n",
       "    <tr>\n",
       "      <th>50%</th>\n",
       "      <td>0.711897</td>\n",
       "      <td>0.803543</td>\n",
       "      <td>0.281379</td>\n",
       "      <td>0.376772</td>\n",
       "      <td>0.692292</td>\n",
       "      <td>0.679460</td>\n",
       "      <td>0.551477</td>\n",
       "      <td>0.534628</td>\n",
       "    </tr>\n",
       "    <tr>\n",
       "      <th>75%</th>\n",
       "      <td>0.866288</td>\n",
       "      <td>0.955292</td>\n",
       "      <td>0.704007</td>\n",
       "      <td>0.689524</td>\n",
       "      <td>0.951166</td>\n",
       "      <td>0.866688</td>\n",
       "      <td>0.837789</td>\n",
       "      <td>0.766773</td>\n",
       "    </tr>\n",
       "    <tr>\n",
       "      <th>max</th>\n",
       "      <td>1.000000</td>\n",
       "      <td>1.000000</td>\n",
       "      <td>1.000000</td>\n",
       "      <td>1.000000</td>\n",
       "      <td>1.000000</td>\n",
       "      <td>1.000000</td>\n",
       "      <td>1.000000</td>\n",
       "      <td>1.000000</td>\n",
       "    </tr>\n",
       "  </tbody>\n",
       "</table>\n",
       "</div>"
      ],
      "text/plain": [
       "            14D-1       14D-2       14D-3       14D-4       14D-5       14D-6  \\\n",
       "count  168.000000  168.000000  168.000000  168.000000  168.000000  168.000000   \n",
       "mean     0.597595    0.697498    0.386766    0.431689    0.607030    0.610528   \n",
       "std      0.314721    0.301234    0.356731    0.310718    0.349599    0.283278   \n",
       "min      0.000000    0.000000    0.000000    0.000000    0.000000    0.000000   \n",
       "25%      0.329701    0.486892    0.041264    0.162237    0.314685    0.370957   \n",
       "50%      0.711897    0.803543    0.281379    0.376772    0.692292    0.679460   \n",
       "75%      0.866288    0.955292    0.704007    0.689524    0.951166    0.866688   \n",
       "max      1.000000    1.000000    1.000000    1.000000    1.000000    1.000000   \n",
       "\n",
       "            14D-7       14D-8  \n",
       "count  168.000000  168.000000  \n",
       "mean     0.528185    0.524593  \n",
       "std      0.322234    0.283541  \n",
       "min      0.000000    0.000000  \n",
       "25%      0.259930    0.346622  \n",
       "50%      0.551477    0.534628  \n",
       "75%      0.837789    0.766773  \n",
       "max      1.000000    1.000000  "
      ]
     },
     "execution_count": 9,
     "metadata": {},
     "output_type": "execute_result"
    }
   ],
   "source": [
    "# Descriptive Statistics (14 day)\n",
    "\n",
    "fourteen_blue.describe()\n",
    "fourteen_dark.describe()"
   ]
  },
  {
   "cell_type": "markdown",
   "id": "b1582043-2ad2-43a2-83fd-2df8edc19d61",
   "metadata": {},
   "source": [
    "### Random Forest Time\n",
    "\n",
    "70/30 split\n",
    "\n",
    "predict blue or dark"
   ]
  },
  {
   "cell_type": "code",
   "execution_count": 50,
   "id": "79924824-b8e6-4aed-bde8-d219bdb2ccca",
   "metadata": {},
   "outputs": [],
   "source": [
    "from sklearn.model_selection import train_test_split\n",
    "from sklearn.ensemble import RandomForestClassifier\n",
    "from sklearn.metrics import accuracy_score, precision_score, f1_score\n",
    "from sklearn.model_selection import cross_val_score"
   ]
  },
  {
   "cell_type": "code",
   "execution_count": 37,
   "id": "462977e3-2124-4725-8f85-a3e36a37cbfb",
   "metadata": {},
   "outputs": [],
   "source": [
    "# Set up arrays of features and outcomes\n",
    "\n",
    "labels = np.array(data['outcome'])\n",
    "\n",
    "features = data.drop('outcome', axis = 1)\n",
    "\n",
    "feature_list = list(features.columns)\n",
    "\n",
    "features = np.array(features)"
   ]
  },
  {
   "cell_type": "code",
   "execution_count": 38,
   "id": "13395514-0e5e-4756-9cab-ebdcbdec3b1d",
   "metadata": {},
   "outputs": [],
   "source": [
    "# Split the data into training and testing sets\n",
    "train_features, test_features, train_labels, test_labels = train_test_split(features, labels, test_size = 0.3, random_state=42, stratify=labels)"
   ]
  },
  {
   "cell_type": "code",
   "execution_count": 39,
   "id": "d908a7ae-06dd-46f2-9ce9-7c1d164f4e37",
   "metadata": {},
   "outputs": [
    {
     "name": "stdout",
     "output_type": "stream",
     "text": [
      "Training Features Shape: (21, 168)\n",
      "Training Labels Shape: (21,)\n",
      "Testing Features Shape: (10, 168)\n",
      "Testing Labels Shape: (10,)\n"
     ]
    }
   ],
   "source": [
    "print('Training Features Shape:', train_features.shape)\n",
    "print('Training Labels Shape:', train_labels.shape)\n",
    "print('Testing Features Shape:', test_features.shape)\n",
    "print('Testing Labels Shape:', test_labels.shape)"
   ]
  },
  {
   "cell_type": "code",
   "execution_count": 40,
   "id": "2e27c898-e2fe-472d-b994-a690108b1414",
   "metadata": {},
   "outputs": [],
   "source": [
    "# Instantiate model with 1000 decision trees\n",
    "rf = RandomForestClassifier(n_estimators = 1000, random_state = 42)\n",
    "\n",
    "# Train the model on training data\n",
    "rf.fit(train_features, train_labels);"
   ]
  },
  {
   "cell_type": "code",
   "execution_count": 41,
   "id": "298c3634-7ac9-435c-aaec-c155d0fa5540",
   "metadata": {},
   "outputs": [],
   "source": [
    "# Use the forest's predict method on the test data\n",
    "predictions = rf.predict(test_features)"
   ]
  },
  {
   "cell_type": "code",
   "execution_count": 42,
   "id": "683a5e71-64a1-4a04-a536-df8cd5f40e22",
   "metadata": {},
   "outputs": [
    {
     "name": "stdout",
     "output_type": "stream",
     "text": [
      "Predictions:  [1 1 0 0 0 1 0 0 1 0]\n",
      "Actual:       [0 1 0 1 0 1 0 0 1 1]\n",
      "Accuracy:  0.7\n",
      "              precision    recall  f1-score   support\n",
      "\n",
      "           0       0.80      0.67      0.73         6\n",
      "           1       0.60      0.75      0.67         4\n",
      "\n",
      "    accuracy                           0.70        10\n",
      "   macro avg       0.70      0.71      0.70        10\n",
      "weighted avg       0.72      0.70      0.70        10\n",
      "\n"
     ]
    }
   ],
   "source": [
    "print('Predictions: ', predictions)\n",
    "print('Actual:      ', test_labels)\n",
    "print('Accuracy: ', accuracy_score(predictions, test_labels))\n",
    "print(classification_report(predictions, test_labels))"
   ]
  },
  {
   "cell_type": "code",
   "execution_count": 65,
   "id": "1999a8ea-f8f1-4d95-b106-142d3d2ef9c6",
   "metadata": {},
   "outputs": [
    {
     "data": {
      "text/plain": [
       "array([0.8       , 0.8       , 1.        , 0.66666667, 0.66666667])"
      ]
     },
     "execution_count": 65,
     "metadata": {},
     "output_type": "execute_result"
    }
   ],
   "source": [
    "# Cross Validation F1 Scores\n",
    "\n",
    "rf_cv_score = cross_val_score(rf, train_features, train_labels, scoring='f1')\n",
    "rf_cv_score"
   ]
  },
  {
   "cell_type": "code",
   "execution_count": 74,
   "id": "6bb4c55f-f5a5-472a-b0a2-abd21ea7ebea",
   "metadata": {},
   "outputs": [
    {
     "data": {
      "text/plain": [
       "(array([145.,  15.,   3.,   1.,   0.,   2.,   1.,   1.,   0.,   0.]),\n",
       " array([0.  , 0.01, 0.02, 0.03, 0.04, 0.05, 0.06, 0.07, 0.08, 0.09, 0.1 ]),\n",
       " <BarContainer object of 10 artists>)"
      ]
     },
     "execution_count": 74,
     "metadata": {},
     "output_type": "execute_result"
    },
    {
     "data": {
      "text/plain": [
       "Text(0.5, 0, 'Feature Importance')"
      ]
     },
     "execution_count": 74,
     "metadata": {},
     "output_type": "execute_result"
    },
    {
     "data": {
      "text/plain": [
       "Text(0, 0.5, 'Frequency')"
      ]
     },
     "execution_count": 74,
     "metadata": {},
     "output_type": "execute_result"
    },
    {
     "data": {
      "text/plain": [
       "Text(0.5, 1.0, 'Histogram of Feature Importances')"
      ]
     },
     "execution_count": 74,
     "metadata": {},
     "output_type": "execute_result"
    },
    {
     "data": {
      "image/png": "[encoded data removed]",
      "text/plain": [
       "<Figure size 432x288 with 1 Axes>"
      ]
     },
     "metadata": {
      "needs_background": "light"
     },
     "output_type": "display_data"
    }
   ],
   "source": [
    "# Histogram of Feature Importance Values - Most (145/168) are not important\n",
    "\n",
    "importances = rf.feature_importances_\n",
    "\n",
    "fig, ax = plt.subplots()\n",
    "ax.hist(importances, range=[0, 0.1])\n",
    "ax.set_xlabel('Feature Importance')\n",
    "ax.set_ylabel('Frequency')\n",
    "ax.set_title('Histogram of Feature Importances')\n",
    "\n",
    "plt.show()"
   ]
  },
  {
   "cell_type": "code",
   "execution_count": 44,
   "id": "0495cacd-bdda-412d-b147-f6d7e6536c07",
   "metadata": {},
   "outputs": [
    {
     "data": {
      "text/plain": [
       "2        HMDB00056\n",
       "21       HMDB00267\n",
       "90     HMDB0000112\n",
       "30       HMDB00191\n",
       "161      HMDB01341\n",
       "12       HMDB00870\n",
       "76       HMDB00244\n",
       "97       HMDB00254\n",
       "38     HMDB0000148\n",
       "Name: HMDB ID, dtype: object"
      ]
     },
     "execution_count": 44,
     "metadata": {},
     "output_type": "execute_result"
    }
   ],
   "source": [
    "# Top 5% of the most important features\n",
    "\n",
    "top_5per_features = sorted(range(len(importances)), key=lambda i: importances[i])[-9:]\n",
    "\n",
    "df_10blue[\"HMDB ID\"].iloc[top_5per_features]"
   ]
  },
  {
   "cell_type": "code",
   "execution_count": 63,
   "id": "cae63680-2c18-450b-a625-ee0351073243",
   "metadata": {},
   "outputs": [
    {
     "data": {
      "text/plain": [
       "RandomForestClassifier(n_estimators=1000, random_state=42)"
      ]
     },
     "execution_count": 63,
     "metadata": {},
     "output_type": "execute_result"
    },
    {
     "data": {
      "text/plain": [
       "RandomForestClassifier(n_estimators=1000, random_state=42)"
      ]
     },
     "execution_count": 63,
     "metadata": {},
     "output_type": "execute_result"
    },
    {
     "data": {
      "text/plain": [
       "RandomForestClassifier(n_estimators=1000, random_state=42)"
      ]
     },
     "execution_count": 63,
     "metadata": {},
     "output_type": "execute_result"
    },
    {
     "data": {
      "text/plain": [
       "RandomForestClassifier(n_estimators=1000, random_state=42)"
      ]
     },
     "execution_count": 63,
     "metadata": {},
     "output_type": "execute_result"
    },
    {
     "data": {
      "text/plain": [
       "RandomForestClassifier(n_estimators=1000, random_state=42)"
      ]
     },
     "execution_count": 63,
     "metadata": {},
     "output_type": "execute_result"
    },
    {
     "data": {
      "text/plain": [
       "RandomForestClassifier(n_estimators=1000, random_state=42)"
      ]
     },
     "execution_count": 63,
     "metadata": {},
     "output_type": "execute_result"
    },
    {
     "data": {
      "text/plain": [
       "RandomForestClassifier(n_estimators=1000, random_state=42)"
      ]
     },
     "execution_count": 63,
     "metadata": {},
     "output_type": "execute_result"
    },
    {
     "data": {
      "text/plain": [
       "RandomForestClassifier(n_estimators=1000, random_state=42)"
      ]
     },
     "execution_count": 63,
     "metadata": {},
     "output_type": "execute_result"
    },
    {
     "data": {
      "text/plain": [
       "RandomForestClassifier(n_estimators=1000, random_state=42)"
      ]
     },
     "execution_count": 63,
     "metadata": {},
     "output_type": "execute_result"
    },
    {
     "data": {
      "text/plain": [
       "RandomForestClassifier(n_estimators=1000, random_state=42)"
      ]
     },
     "execution_count": 63,
     "metadata": {},
     "output_type": "execute_result"
    },
    {
     "data": {
      "text/plain": [
       "RandomForestClassifier(n_estimators=1000, random_state=42)"
      ]
     },
     "execution_count": 63,
     "metadata": {},
     "output_type": "execute_result"
    },
    {
     "data": {
      "text/plain": [
       "RandomForestClassifier(n_estimators=1000, random_state=42)"
      ]
     },
     "execution_count": 63,
     "metadata": {},
     "output_type": "execute_result"
    },
    {
     "data": {
      "text/plain": [
       "RandomForestClassifier(n_estimators=1000, random_state=42)"
      ]
     },
     "execution_count": 63,
     "metadata": {},
     "output_type": "execute_result"
    },
    {
     "data": {
      "text/plain": [
       "RandomForestClassifier(n_estimators=1000, random_state=42)"
      ]
     },
     "execution_count": 63,
     "metadata": {},
     "output_type": "execute_result"
    },
    {
     "data": {
      "text/plain": [
       "RandomForestClassifier(n_estimators=1000, random_state=42)"
      ]
     },
     "execution_count": 63,
     "metadata": {},
     "output_type": "execute_result"
    },
    {
     "data": {
      "text/plain": [
       "RandomForestClassifier(n_estimators=1000, random_state=42)"
      ]
     },
     "execution_count": 63,
     "metadata": {},
     "output_type": "execute_result"
    },
    {
     "data": {
      "text/plain": [
       "RandomForestClassifier(n_estimators=1000, random_state=42)"
      ]
     },
     "execution_count": 63,
     "metadata": {},
     "output_type": "execute_result"
    },
    {
     "data": {
      "text/plain": [
       "RandomForestClassifier(n_estimators=1000, random_state=42)"
      ]
     },
     "execution_count": 63,
     "metadata": {},
     "output_type": "execute_result"
    },
    {
     "data": {
      "text/plain": [
       "RandomForestClassifier(n_estimators=1000, random_state=42)"
      ]
     },
     "execution_count": 63,
     "metadata": {},
     "output_type": "execute_result"
    },
    {
     "data": {
      "text/plain": [
       "RandomForestClassifier(n_estimators=1000, random_state=42)"
      ]
     },
     "execution_count": 63,
     "metadata": {},
     "output_type": "execute_result"
    },
    {
     "data": {
      "text/plain": [
       "RandomForestClassifier(n_estimators=1000, random_state=42)"
      ]
     },
     "execution_count": 63,
     "metadata": {},
     "output_type": "execute_result"
    },
    {
     "data": {
      "text/plain": [
       "RandomForestClassifier(n_estimators=1000, random_state=42)"
      ]
     },
     "execution_count": 63,
     "metadata": {},
     "output_type": "execute_result"
    },
    {
     "data": {
      "text/plain": [
       "RandomForestClassifier(n_estimators=1000, random_state=42)"
      ]
     },
     "execution_count": 63,
     "metadata": {},
     "output_type": "execute_result"
    },
    {
     "data": {
      "text/plain": [
       "RandomForestClassifier(n_estimators=1000, random_state=42)"
      ]
     },
     "execution_count": 63,
     "metadata": {},
     "output_type": "execute_result"
    },
    {
     "data": {
      "text/plain": [
       "RandomForestClassifier(n_estimators=1000, random_state=42)"
      ]
     },
     "execution_count": 63,
     "metadata": {},
     "output_type": "execute_result"
    }
   ],
   "source": [
    "# Not sure if this is necessary at all but this runs 25 random forests and gives the average metrics\n",
    "# I thought this might be something useful since our dataset is small but not sure\n",
    "\n",
    "accuracy_list = []\n",
    "precision_list = []\n",
    "f1_score_list = []\n",
    "\n",
    "rf25 = RandomForestClassifier(n_estimators = 1000, random_state = 42)\n",
    "\n",
    "for i in range(0, 25):\n",
    "    train_features_25, test_features_25, train_labels_25, test_labels_25 = train_test_split(features, labels, test_size = 0.3,\n",
    "                                                                                            random_state=i, stratify=labels)\n",
    "    \n",
    "    rf25.fit(train_features_25, train_labels_25)\n",
    "    \n",
    "    predictions25 = rf25.predict(test_features_25)\n",
    "    \n",
    "    accuracy_list.append(accuracy_score(predictions25, test_labels_25))\n",
    "    precision_list.append(precision_score(predictions25, test_labels_25))\n",
    "    f1_score_list.append(f1_score(predictions25, test_labels_25))"
   ]
  },
  {
   "cell_type": "code",
   "execution_count": 73,
   "id": "d006e164-2cbc-4f6a-a350-4af1628bb9cf",
   "metadata": {},
   "outputs": [
    {
     "name": "stdout",
     "output_type": "stream",
     "text": [
      "Average Accuracy:  0.892\n",
      "Average Precision:  0.832\n",
      "Average F1 Score:  0.8766464646464647\n"
     ]
    }
   ],
   "source": [
    "print('Average Accuracy: ', mean(accuracy_list))\n",
    "print('Average Precision: ', mean(precision_list))\n",
    "print('Average F1 Score: ', mean(f1_score_list))"
   ]
  },
  {
   "cell_type": "code",
   "execution_count": null,
   "id": "a47e609c-5c9f-438c-ade6-125cef0bd12d",
   "metadata": {},
   "outputs": [],
   "source": []
  }
 ],
 "metadata": {
  "kernelspec": {
   "display_name": "Python 3 (ipykernel)",
   "language": "python",
   "name": "python3"
  },
  "language_info": {
   "codemirror_mode": {
    "name": "ipython",
    "version": 3
   },
   "file_extension": ".py",
   "mimetype": "text/x-python",
   "name": "python",
   "nbconvert_exporter": "python",
   "pygments_lexer": "ipython3",
   "version": "3.9.5"
  }
 },
 "nbformat": 4,
 "nbformat_minor": 5
}
